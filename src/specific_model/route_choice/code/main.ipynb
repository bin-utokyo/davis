{
 "cells": [
  {
   "cell_type": "code",
   "execution_count": 1,
   "id": "b94d81e5",
   "metadata": {},
   "outputs": [],
   "source": [
    "import numpy as np\n",
    "import pandas as pd\n",
    "import os\n",
    "import sys\n",
    "from scipy.optimize import minimize\n",
    "\n",
    "import re\n",
    "import ast\n",
    "\n",
    "from abc_rc import RouteChoiceModel\n",
    "from definition import Network, LinkTransition"
   ]
  },
  {
   "cell_type": "markdown",
   "id": "884871f6",
   "metadata": {},
   "source": [
    "## Model Definition\n",
    "\n",
    "TODO\n",
    "- Implement additional route choice models (e.g., Recursive Logit)\n",
    "- Add three methods to the model class (calculate_transition_probability, get_param_size, is_valid)"
   ]
  },
  {
   "cell_type": "code",
   "execution_count": 2,
   "id": "f32f7209",
   "metadata": {},
   "outputs": [],
   "source": [
    "# Import Example Implementation of RL from code/model.py\n",
    "# you can also define your own model by extending the RouteChoiceModel class\n",
    "from model import RL"
   ]
  },
  {
   "cell_type": "markdown",
   "id": "f17bcdda",
   "metadata": {},
   "source": [
    "## Estimation\n",
    "\n",
    "TODO\n",
    "- Change path to link, node, transition files and output directory\n",
    "- Change model definition"
   ]
  },
  {
   "cell_type": "code",
   "execution_count": 3,
   "id": "421386e7",
   "metadata": {},
   "outputs": [],
   "source": [
    "LINK_FILE = \"../data/input/matsuyama/ped/link.csv\"\n",
    "NODE_FILE = \"../data/input/matsuyama/ped/node.csv\"\n",
    "TRANSITION_FILE = \"../data/input/matsuyama/ped/transition.csv\"\n",
    "OUTPUT_DIR = \"../data/output/matsuyama/ped\"\n",
    "\n",
    "# Read data\n",
    "df_link = pd.read_csv(LINK_FILE)\n",
    "df_node = pd.read_csv(NODE_FILE)\n",
    "df_transition = pd.read_csv(TRANSITION_FILE)\n",
    "\n",
    "network = Network(df_node, df_link)\n"
   ]
  },
  {
   "cell_type": "code",
   "execution_count": 4,
   "id": "933e0bb0",
   "metadata": {},
   "outputs": [],
   "source": [
    "# Create model\n",
    "model = RL(network)\n",
    "\n",
    "# Create transition list (not need to modify)\n",
    "transition_list = [LinkTransition.from_dict(row, network, model) for row in df_transition.to_dict(orient=\"records\")]\n",
    "transition_list = [t for t in transition_list if t is not None]# remove None values"
   ]
  },
  {
   "cell_type": "code",
   "execution_count": 5,
   "id": "c86cf979",
   "metadata": {},
   "outputs": [],
   "source": [
    "# Define functions for estimation\n",
    "def compute_minus_ll(params: np.ndarray) -> float:\n",
    "    ll = 0.0\n",
    "    for transition in transition_list:\n",
    "        ll += transition.calculate_log_likelihood(params)\n",
    "    return -ll\n",
    "\n",
    "def compute_hessian(params: np.ndarray) -> np.ndarray:\n",
    "    h = 10 ** -4  # 数値微分用の微小量\n",
    "    n = len(params)\n",
    "    res = np.zeros((n, n))\n",
    "    for i in range(n):\n",
    "        for j in range(n):\n",
    "            e_i, e_j = np.zeros(n), np.zeros(n)\n",
    "            e_i[i] = 1\n",
    "            e_j[j] = 1\n",
    "\n",
    "            res[i][j] = (-compute_minus_ll(params + h * e_i + h * e_j)\n",
    "                        + compute_minus_ll(params + h * e_i - h * e_j)\n",
    "                        + compute_minus_ll(params - h * e_i + h * e_j)\n",
    "                        - compute_minus_ll(params - h * e_i - h * e_j)) / (4 * h * h)\n",
    "    return res\n",
    "\n",
    "def tval(x: np.ndarray) -> np.ndarray:\n",
    "    return x / np.sqrt(-np.diag(np.linalg.inv(compute_hessian(x))))"
   ]
  },
  {
   "cell_type": "code",
   "execution_count": null,
   "id": "29b6e45d",
   "metadata": {},
   "outputs": [],
   "source": [
    "# Perform Estimation\n",
    "x0 = np.zeros(model.get_param_size())\n",
    "res = minimize(compute_minus_ll, x0, method=\"Nelder-Mead\")\n",
    "\n",
    "t_val = tval(res.x)\n",
    "LL0 = -compute_minus_ll(x0)\n",
    "LL = -compute_minus_ll(res.x)\n",
    "rho2 = 1 - LL / LL0\n",
    "adj_rho2 = 1 - (LL - len(res.x)) / LL0\n",
    "aic = -2 * LL + 2 * len(res.x)\n",
    "\n",
    "result_str = f\"\"\"\n",
    "sample number = {len(transition_list)}\n",
    "    variables = [{', '.join(map(str, network.f_name))}]\n",
    "    parameter = [{', '.join(map(str, res.x))}]\n",
    "        t value = [{', '.join(map(str, t_val))}]\n",
    "            L0 = {LL0}\n",
    "            LL = {LL}\n",
    "            rho2 = {rho2}\n",
    "adjusted rho2 = {adj_rho2}\n",
    "            AIC = {aic}\n",
    "        discount = {model.get_beta(res.x) if hasattr(model, 'get_beta') else 'N/A'}\n",
    "\"\"\"\n",
    "print(result_str)\n",
    "\n",
    "with open(os.path.join(OUTPUT_DIR, \"result.txt\"), \"w\") as f:\n",
    "    f.write(result_str)\n"
   ]
  },
  {
   "cell_type": "markdown",
   "id": "3ec9680c",
   "metadata": {},
   "source": [
    "## Simulation\n",
    "\n",
    "TODO\n",
    "- Change path to link, node, transition files, parameter file and output directory\n",
    "- Change model definition"
   ]
  },
  {
   "cell_type": "code",
   "execution_count": 6,
   "id": "b9f30768",
   "metadata": {},
   "outputs": [],
   "source": [
    "LINK_FILE = \"../data/input/matsuyama/ped/link.csv\"\n",
    "NODE_FILE = \"../data/input/matsuyama/ped/node.csv\"\n",
    "TRANSITION_FILE = \"../data/input/matsuyama/ped/transition.csv\"  # not need to contain \"NextLinkID\" column\n",
    "PARAMETER_FILE = \"../data/output/matsuyama/ped/result.txt\"\n",
    "OUTPUT_DIR = \"../data/output/matsuyama/ped/\"\n",
    "\n",
    "\n",
    "# Read data\n",
    "df_link = pd.read_csv(LINK_FILE)\n",
    "df_node = pd.read_csv(NODE_FILE)\n",
    "df_transition = pd.read_csv(TRANSITION_FILE)\n",
    "\n",
    "network = Network(df_node, df_link)"
   ]
  },
  {
   "cell_type": "code",
   "execution_count": 7,
   "id": "03a35718",
   "metadata": {},
   "outputs": [],
   "source": [
    "# Create model\n",
    "model = RL(network)\n",
    "\n",
    "# Create transition list (not need to modify)\n",
    "transition_list = [LinkTransition.from_dict(row, network, model) for row in df_transition.to_dict(orient=\"records\")]"
   ]
  },
  {
   "cell_type": "code",
   "execution_count": 8,
   "id": "11f98cde",
   "metadata": {},
   "outputs": [],
   "source": [
    "# Read Parameter\n",
    "with open(PARAMETER_FILE, encoding=\"utf-8\") as f:\n",
    "    text = f.read()\n",
    "\n",
    "match = re.search(r\"parameter\\s*=\\s*(\\[[^\\]]+\\])\", text)\n",
    "if match:\n",
    "    param_list = ast.literal_eval(match.group(1))  # list[float]\n",
    "else:\n",
    "    raise ValueError(\"Failed to extract parameters from input/result.txt\")\n",
    "params = np.array(param_list, dtype=np.float32)"
   ]
  },
  {
   "cell_type": "code",
   "execution_count": 9,
   "id": "a4b0d9c5",
   "metadata": {},
   "outputs": [
    {
     "name": "stdout",
     "output_type": "stream",
     "text": [
      "   TripID  LinkID  NextLinkID  DestinationNodeID\n",
      "0       1    1026       179.0                599\n",
      "1       1    2877      1026.0                599\n",
      "2       1    1026       179.0                599\n",
      "3       1     179      2535.0                599\n",
      "4       1     178      2365.0                599\n"
     ]
    }
   ],
   "source": [
    "# Perform Simulation\n",
    "next_link_ids = []\n",
    "for transition in transition_list:\n",
    "    if transition is not None:\n",
    "        next_link_id = model.choose_transition(transition, params)\n",
    "        next_link_ids.append(next_link_id)\n",
    "    else:\n",
    "        next_link_ids.append(None)\n",
    "\n",
    "df_transition[\"NextLinkID\"] = next_link_ids\n",
    "df_transition.to_csv(os.path.join(OUTPUT_DIR, \"transition_simulated.csv\"), index=False)\n",
    "\n",
    "print(df_transition.head())"
   ]
  },
  {
   "cell_type": "code",
   "execution_count": null,
   "id": "f430cf4d",
   "metadata": {},
   "outputs": [],
   "source": []
  }
 ],
 "metadata": {
  "kernelspec": {
   "display_name": "ml_env",
   "language": "python",
   "name": "python3"
  },
  "language_info": {
   "codemirror_mode": {
    "name": "ipython",
    "version": 3
   },
   "file_extension": ".py",
   "mimetype": "text/x-python",
   "name": "python",
   "nbconvert_exporter": "python",
   "pygments_lexer": "ipython3",
   "version": "3.11.11"
  }
 },
 "nbformat": 4,
 "nbformat_minor": 5
}
