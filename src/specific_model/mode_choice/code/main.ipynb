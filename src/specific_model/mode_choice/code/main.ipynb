{
 "cells": [
  {
   "cell_type": "code",
   "execution_count": 10,
   "id": "6f798714",
   "metadata": {},
   "outputs": [],
   "source": [
    "from typing import Any, Optional\n",
    "import os\n",
    "import sys\n",
    "import re\n",
    "import ast\n",
    "\n",
    "import numpy as np\n",
    "import pandas as pd\n",
    "\n",
    "from scipy.optimize import minimize\n",
    "\n",
    "from definition import Los, Trip\n",
    "from abc_mc import ModeChoiceModel"
   ]
  },
  {
   "cell_type": "markdown",
   "id": "c2fb8c96",
   "metadata": {},
   "source": [
    "## Model Definition\n",
    "\n",
    "TODO\n",
    "- Implement additional mode choice models (e.g., Nested Logit, Mixed Logit)\n",
    "- Add two methods for the model class (calculate_mode_probability, isValid)"
   ]
  },
  {
   "cell_type": "code",
   "execution_count": 11,
   "id": "a3efad32",
   "metadata": {},
   "outputs": [],
   "source": [
    "# Example of Model Definition (MNL)\n",
    "class MNL(ModeChoiceModel):\n",
    "    def calculate_mode_probability(self, los: Los, params: np.ndarray) -> dict[int, float]:\n",
    "        \"\"\"\n",
    "        Calculate mode choice probabilities using Multinomial Logit model.\n",
    "\n",
    "        Args:\n",
    "            los (Los): Level of Service data for the trip.\n",
    "            params (np.ndarray): Model parameters corresponding to los.attribute_names.\n",
    "\n",
    "        Returns:\n",
    "            dict[int, float]: Dictionary of mode choice probabilities.\n",
    "        \"\"\"\n",
    "        utilities = np.full(len(los.availability), -np.inf, dtype=np.float32)\n",
    "        for i, mode in enumerate(los.availability.keys()):\n",
    "            available = los.availability[int(mode)]\n",
    "            attr_values = los.attributes[int(mode)]\n",
    "            if available:\n",
    "                utilities[i] = np.dot(params, attr_values)\n",
    "\n",
    "        utilities = np.array(utilities)\n",
    "        exp_utilities = np.exp(utilities - np.max(utilities))\n",
    "        probabilities = exp_utilities / np.sum(exp_utilities)\n",
    "\n",
    "        probabilities_dict = {mode: prob for mode, prob in zip(los.availability.keys(), probabilities)}\n",
    "\n",
    "        return probabilities_dict\n",
    "    \n",
    "\n",
    "    def isValid(self, los: Los, params: np.ndarray) -> bool:\n",
    "        return len(params) == len(los.attribute_names)"
   ]
  },
  {
   "cell_type": "markdown",
   "id": "619a709a",
   "metadata": {},
   "source": [
    "## Estimation\n",
    "\n",
    "TODO\n",
    "- Change path to los data and trip data\n",
    "- Change model definition"
   ]
  },
  {
   "cell_type": "code",
   "execution_count": 13,
   "id": "2f6960a7",
   "metadata": {},
   "outputs": [],
   "source": [
    "LOS_FILE = \"../data/input/test/los.csv\"\n",
    "TRIP_FILE = \"../data/input/test/trip.csv\"\n",
    "\n",
    "# Create model\n",
    "model = MNL()\n",
    "\n",
    "# Read data\n",
    "df_los = pd.read_csv(LOS_FILE)\n",
    "df_trip = pd.read_csv(TRIP_FILE)\n",
    "\n",
    "los_dict = {\n",
    "    (row[\"OZone\"], row[\"DZone\"]): Los.from_dict(row)\n",
    "    for row in df_los.to_dict(orient=\"records\")\n",
    "}\n",
    "\n",
    "df_trip = df_trip.astype({\n",
    "    \"TripID\": int,\n",
    "    \"DepartureTime\": \"datetime64[ns]\",\n",
    "    \"ArrivalTime\": \"datetime64[ns]\",\n",
    "    \"OZone\": int,\n",
    "    \"DZone\": int,\n",
    "    \"Mode\": int\n",
    "})\n",
    "\n",
    "trips = [\n",
    "    Trip(\n",
    "        trip_id=row[\"TripID\"],\n",
    "        dep_time=row[\"DepartureTime\"],\n",
    "        arr_time=row[\"ArrivalTime\"],\n",
    "        o_zone=row[\"OZone\"],\n",
    "        d_zone=row[\"DZone\"],\n",
    "        model=model,  # dependency injection\n",
    "        mode=row[\"Mode\"]\n",
    "    )\n",
    "    for row in df_trip.to_records(index=False)\n",
    "]"
   ]
  },
  {
   "cell_type": "code",
   "execution_count": 14,
   "id": "8b376bb4",
   "metadata": {},
   "outputs": [],
   "source": [
    "# Define functions for estimation\n",
    "def compute_minus_ll(params: np.ndarray) -> float:\n",
    "    ll = 0.0\n",
    "    for trip in trips:\n",
    "        los = trip.get_los(los_dict)\n",
    "        if los is not None:\n",
    "            ll += trip.calculate_log_likelihood(los, params)\n",
    "    return -ll\n",
    "\n",
    "def compute_hessian(params: np.ndarray) -> np.ndarray:\n",
    "    h = 10 ** -4  # 数値微分用の微小量\n",
    "    n = len(params)\n",
    "    res = np.zeros((n, n))\n",
    "    for i in range(n):\n",
    "        for j in range(n):\n",
    "            e_i, e_j = np.zeros(n), np.zeros(n)\n",
    "            e_i[i] = 1\n",
    "            e_j[j] = 1\n",
    "\n",
    "            res[i][j] = (-compute_minus_ll(params + h * e_i + h * e_j)\n",
    "                        + compute_minus_ll(params + h * e_i - h * e_j)\n",
    "                        + compute_minus_ll(params - h * e_i + h * e_j)\n",
    "                        - compute_minus_ll(params - h * e_i - h * e_j)) / (4 * h * h)\n",
    "    return res\n",
    "\n",
    "def tval(x: np.ndarray) -> np.ndarray:\n",
    "    return x / np.sqrt(-np.diag(np.linalg.inv(compute_hessian(x))))"
   ]
  },
  {
   "cell_type": "code",
   "execution_count": 15,
   "id": "f5d93ed6",
   "metadata": {},
   "outputs": [
    {
     "name": "stdout",
     "output_type": "stream",
     "text": [
      "\n",
      "sample number = 340\n",
      "    variables = Time\n",
      "    parameter = -0.030000000000000006\n",
      "        t value = -8.886211562062822\n",
      "            L0 = -479.0426747327091\n",
      "            LL = -393.3092821360348\n",
      "            rho2 = 0.1789681736486438\n",
      "adjusted rho2 = 0.17688067695420429\n",
      "            AIC = 788.6185642720696\n",
      "\n"
     ]
    }
   ],
   "source": [
    "# Perform Estimation\n",
    "x0 = np.zeros(len(los_dict[list(los_dict.keys())[0]].attribute_names))\n",
    "res = minimize(compute_minus_ll, x0, method=\"Nelder-Mead\")\n",
    "t_val = tval(res.x)\n",
    "LL0 = -compute_minus_ll(x0)\n",
    "LL = -compute_minus_ll(res.x)\n",
    "rho2 = 1 - LL / LL0\n",
    "adj_rho2 = 1 - (LL - len(res.x)) / LL0\n",
    "aic = -2 * LL + 2 * len(res.x)\n",
    "\n",
    "result_str = f\"\"\"\n",
    "sample number = {len(trips)}\n",
    "    variables = {', '.join(los_dict[list(los_dict.keys())[0]].attribute_names)}\n",
    "    parameter = {', '.join(map(str, res.x))}\n",
    "        t value = {', '.join(map(str, t_val))}\n",
    "            L0 = {LL0}\n",
    "            LL = {LL}\n",
    "            rho2 = {rho2}\n",
    "adjusted rho2 = {adj_rho2}\n",
    "            AIC = {aic}\n",
    "\"\"\"\n",
    "print(result_str)"
   ]
  },
  {
   "cell_type": "markdown",
   "id": "380242b7",
   "metadata": {},
   "source": [
    "## Simulation\n",
    "\n",
    "TODO\n",
    "- Change path to los data, trip data, parameter file, output dir\n",
    "- Change model definition"
   ]
  },
  {
   "cell_type": "code",
   "execution_count": 16,
   "id": "7fcd19e3",
   "metadata": {},
   "outputs": [],
   "source": [
    "LOS_FILE = \"../data/input/test/los.csv\"\n",
    "TRIP_FILE = \"../data/input/test/trip.csv\"\n",
    "PARAMETER_FILE = \"../data/output/test/result.txt\"\n",
    "OUTPUT_DIR = \"../data/output/test\"\n",
    "\n",
    "# Create model\n",
    "model = MNL()\n",
    "\n",
    "# Read data\n",
    "df_los = pd.read_csv(LOS_FILE)\n",
    "df_trip = pd.read_csv(TRIP_FILE)\n",
    "\n",
    "los_dict = {\n",
    "    (row[\"OZone\"], row[\"DZone\"]): Los.from_dict(row)\n",
    "    for row in df_los.to_dict(orient=\"records\")\n",
    "}\n",
    "\n",
    "df_trip = df_trip.astype({\n",
    "    \"TripID\": int,\n",
    "    \"DepartureTime\": \"datetime64[ns]\",\n",
    "    \"ArrivalTime\": \"datetime64[ns]\",\n",
    "    \"OZone\": int,\n",
    "    \"DZone\": int\n",
    "})\n",
    "\n",
    "# Read parameters\n",
    "with open(PARAMETER_FILE, encoding=\"utf-8\") as f:\n",
    "    text = f.read()\n",
    "\n",
    "match = re.search(r\"parameter\\s*=\\s*(\\[[^\\]]+\\])\", text)\n",
    "if match:\n",
    "    param_list = ast.literal_eval(match.group(1))  # list[float]\n",
    "else:\n",
    "    raise ValueError(\"Failed to extract parameters from input/result.txt\")\n",
    "params = np.array(param_list, dtype=np.float32)"
   ]
  },
  {
   "cell_type": "code",
   "execution_count": 18,
   "id": "a622a2ba",
   "metadata": {},
   "outputs": [
    {
     "name": "stdout",
     "output_type": "stream",
     "text": [
      "   TripID       DepartureTime         ArrivalTime  OZone  DZone  Mode\n",
      "0  255461 2009-10-31 06:19:00 2009-10-31 07:50:01    205    113   100\n",
      "1  255291 2009-10-29 07:36:03 2009-10-29 08:21:20    115    104   410\n",
      "2  256382 2009-11-10 06:55:33 2009-11-10 07:58:02    207    104   200\n",
      "3  257459 2009-11-21 10:40:54 2009-11-21 12:31:44    112    206   200\n",
      "4  257040 2009-11-17 12:09:25 2009-11-17 12:52:15    104    104   420\n"
     ]
    }
   ],
   "source": [
    "# Perform Simulation\n",
    "modes = []\n",
    "for trip in trips:\n",
    "    los = trip.get_los(los_dict)\n",
    "    if los is not None:\n",
    "        mode = trip.choose_mode(los, params)\n",
    "        modes.append(mode)\n",
    "\n",
    "df_trip[\"Mode\"] = modes\n",
    "df_trip.to_csv(os.path.join(OUTPUT_DIR, \"trip_simulated.csv\"), index=False)\n",
    "print(df_trip.head())"
   ]
  },
  {
   "cell_type": "code",
   "execution_count": null,
   "id": "9a046b86",
   "metadata": {},
   "outputs": [],
   "source": []
  }
 ],
 "metadata": {
  "kernelspec": {
   "display_name": "ml_env",
   "language": "python",
   "name": "python3"
  },
  "language_info": {
   "codemirror_mode": {
    "name": "ipython",
    "version": 3
   },
   "file_extension": ".py",
   "mimetype": "text/x-python",
   "name": "python",
   "nbconvert_exporter": "python",
   "pygments_lexer": "ipython3",
   "version": "3.11.11"
  }
 },
 "nbformat": 4,
 "nbformat_minor": 5
}
